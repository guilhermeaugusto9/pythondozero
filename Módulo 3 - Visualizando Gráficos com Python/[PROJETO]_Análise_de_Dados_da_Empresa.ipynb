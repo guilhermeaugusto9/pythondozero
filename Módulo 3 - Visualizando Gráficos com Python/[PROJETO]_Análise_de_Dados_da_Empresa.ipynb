{
  "nbformat": 4,
  "nbformat_minor": 0,
  "metadata": {
    "colab": {
      "name": "[PROJETO] Análise de Dados da Empresa",
      "provenance": [],
      "collapsed_sections": [],
      "include_colab_link": true
    },
    "kernelspec": {
      "name": "python3",
      "display_name": "Python 3"
    }
  },
  "cells": [
    {
      "cell_type": "markdown",
      "metadata": {
        "id": "view-in-github",
        "colab_type": "text"
      },
      "source": [
        "<a href=\"https://colab.research.google.com/github/guilhermeaugusto9/pythondozero/blob/main/M%C3%B3dulo%203%20-%20Visualizando%20Gr%C3%A1ficos%20com%20Python/%5BPROJETO%5D_An%C3%A1lise_de_Dados_da_Empresa.ipynb\" target=\"_parent\"><img src=\"https://colab.research.google.com/assets/colab-badge.svg\" alt=\"Open In Colab\"/></a>"
      ]
    },
    {
      "cell_type": "markdown",
      "metadata": {
        "id": "Q9X2KkdET-PX"
      },
      "source": [
        "<img alt=\"Colaboratory logo\" width=\"15%\" src=\"https://raw.githubusercontent.com/carlosfab/escola-data-science/master/img/novo_logo_bg_claro.png\">\n",
        "\n",
        "#### **Python do Zero**\n",
        "*by [sigmoidal.ai](https://sigmoidal.ai)*\n",
        "\n",
        "---\n",
        "\n",
        "# Análise de Dados da Empresa\n",
        "\n",
        "Com o conteúdo que temos até aqui, já é possível fazer análises e plotar visualizações informativas...."
      ]
    },
    {
      "cell_type": "code",
      "metadata": {
        "id": "FDEaGb1_USWI"
      },
      "source": [
        "# importar as bibliotecas necessárias - pandas, matplotlib, google.colab drive\n",
        "\n",
        "# montar o drive\n",
        "\n",
        "# importar a planilha com pandas\n",
        "\n",
        "# associar à variável 'df' a planilha Vendas\n",
        "\n",
        "# visualizar as 5 primeiras entradas\n"
      ],
      "execution_count": null,
      "outputs": []
    },
    {
      "cell_type": "code",
      "metadata": {
        "id": "oUsN4-TBT4Ya",
        "cellView": "form"
      },
      "source": [
        "#@title Solução\n",
        "# importar bibliotecas\n",
        "import pandas as pd\n",
        "import matplotlib.pyplot as plt\n",
        "from google.colab import drive\n",
        "\n",
        "# montando o drive\n",
        "drive.mount('/content/gdrive')\n",
        "\n",
        "\n",
        "# importar planilha do Excel\n",
        "planilha = pd.read_excel(\"/content/gdrive/My Drive/controle_da_empresa.xlsx\", None)\n",
        "df = planilha['Vendas']\n",
        "\n",
        "# ver as 5 primeiras entradas\n",
        "df.head()\n"
      ],
      "execution_count": null,
      "outputs": []
    },
    {
      "cell_type": "code",
      "metadata": {
        "id": "yhKDzNFhUtEH"
      },
      "source": [
        "# plotar um histograma do total de vendas\n",
        "\n"
      ],
      "execution_count": null,
      "outputs": []
    },
    {
      "cell_type": "code",
      "metadata": {
        "id": "9NJkN5Lfc1Do",
        "cellView": "form"
      },
      "source": [
        "#@title Solução\n",
        "plt.hist('Total de Vendas', data=df)\n",
        "plt.title(\"Histograma de Vendas\")\n",
        "plt.ylabel(\"Quantidade de ocorrências\")\n",
        "plt.xlabel(\"Valor da Compra\")\n",
        "plt.show()"
      ],
      "execution_count": null,
      "outputs": []
    },
    {
      "cell_type": "code",
      "metadata": {
        "id": "VOsY99IqUwmm"
      },
      "source": [
        "# plotar um gráfico de linha das vendas ao longo do tempo\n",
        "# rode a célula para transformar a coluna Datas para o formato datetime\n",
        "df['Data da Venda'] = pd.to_datetime(df['Data da Venda'], infer_datetime_format=True)\n",
        "\n",
        "\n"
      ],
      "execution_count": null,
      "outputs": []
    },
    {
      "cell_type": "code",
      "metadata": {
        "id": "rA_t29QTd5KU",
        "cellView": "form"
      },
      "source": [
        "#@title Solução\n",
        "# criando o plot\n",
        "\n",
        "plt.plot('Data da Venda', 'Total de Vendas', data=df)\n",
        "\n",
        "# definindo título\n",
        "plt.title(\"Vendas\")\n",
        "plt.ylabel(\"Total em Vendas\")\n",
        "plt.xlabel(\"Data\")\n",
        "plt.xticks(rotation=45)\n",
        "\n",
        "# mostrando gráfico\n",
        "plt.show()"
      ],
      "execution_count": null,
      "outputs": []
    },
    {
      "cell_type": "code",
      "metadata": {
        "id": "_wMHknuzUzzP"
      },
      "source": [
        "# plotar um gráfico de barras para os vendedores\n"
      ],
      "execution_count": null,
      "outputs": []
    },
    {
      "cell_type": "code",
      "metadata": {
        "id": "zb8w67MRm9JI",
        "cellView": "form"
      },
      "source": [
        "#@title Solução\n",
        "df.groupby('Vendedor')['Total de Vendas'].sum().plot.bar();"
      ],
      "execution_count": null,
      "outputs": []
    },
    {
      "cell_type": "code",
      "metadata": {
        "id": "cFQR2ADtnnJB"
      },
      "source": [
        "# plotar um gráfico de pizza ou waffle para os produtos mais vendidos\n"
      ],
      "execution_count": null,
      "outputs": []
    },
    {
      "cell_type": "code",
      "metadata": {
        "id": "TYGvaHKoU3v0",
        "cellView": "form"
      },
      "source": [
        "#@title Solução\n",
        "a = dict(df[\"Item\"].value_counts())\n",
        "\n",
        "labels = a.keys()\n",
        "valores = a.values()\n",
        "\n",
        "# criando gráfico de pizza\n",
        "plt.pie(x=valores, labels=labels)\n",
        "\n",
        "# definindo título\n",
        "plt.title(\"Itens Mais Vendidos\")\n",
        "\n",
        "# mostrando o gráfico\n",
        "plt.show()"
      ],
      "execution_count": null,
      "outputs": []
    },
    {
      "cell_type": "code",
      "metadata": {
        "id": "97uGP1VPU6wc"
      },
      "source": [
        "\n"
      ],
      "execution_count": null,
      "outputs": []
    }
  ]
}